{
 "cells": [
  {
   "cell_type": "markdown",
   "id": "4bf2e904",
   "metadata": {},
   "source": [
    "# Apartment Search\n",
    "\n",
    "Specific constraints are based on my personal lifestyle as a metro/walking commuter who likes to boulder - a set of constraints hard to represent easily in the usual online tools.\n",
    "\n",
    "Approach 1:\n",
    " - Find a set of apartments within a set radius of the building I would like to work in\n",
    " - Downsize this list by rating \n",
    " - Sort by commute time to a climbing gym\n",
    "\n",
    "Approach 2:\n",
    "- Find climbing gyms (3-5) closest to the building I would like to work in\n",
    "- Use some data source to find the metro locations between those points\n",
    "- Remove any metro stops which would cause the transit between the apartment and gym or apartment and work to be too long\n",
    "- Perform a places search for well-rated apartments near any remaining metro stops\n",
    "\n"
   ]
  },
  {
   "cell_type": "code",
   "execution_count": 15,
   "id": "b7ba8c85",
   "metadata": {},
   "outputs": [
    {
     "name": "stdout",
     "output_type": "stream",
     "text": [
      "11 options found\n"
     ]
    }
   ],
   "source": [
    "from google_maps_search import find_apartments\n",
    "\n",
    "minimum_rating = 4.0\n",
    "maximum_work_commute = 30\n",
    "max_personal_commute = 15\n",
    "\n",
    "work_location = 'Amazon - Blackfoot, Seattle'\n",
    "personal_location = 'bouldering gym'\n",
    "\n",
    "from datetime import datetime\n",
    "departure_time = datetime(2025,9,3,10,1,1)\n",
    "\n",
    "apartments = find_apartments(work_location = work_location, \n",
    "                            personal_location = personal_location, \n",
    "                            max_work_commute = maximum_work_commute, \n",
    "                            max_personal_commute = max_personal_commute, \n",
    "                            departure_time = departure_time, \n",
    "                            min_rating = minimum_rating,\n",
    "                            max_personal_locs = 5)\n",
    "\n",
    "print(f'{len(apartments)} options found')"
   ]
  },
  {
   "cell_type": "code",
   "execution_count": 16,
   "id": "83425d53",
   "metadata": {},
   "outputs": [
    {
     "name": "stdout",
     "output_type": "stream",
     "text": [
      "Name: The Cline Apartments\n",
      "Rating: 4.9 (49 reviews)\n",
      "Related places: {'bouldering_gym': ['Bouldering Project - Fremont']}\n",
      "\n",
      "Name: Bowman\n",
      "Rating: 4.4 (76 reviews)\n",
      "Related places: {'bouldering_gym': ['Bouldering Project - Fremont']}\n",
      "\n",
      "Name: AMLI Wallingford\n",
      "Rating: 4.4 (100 reviews)\n",
      "Related places: {'bouldering_gym': ['Bouldering Project - Fremont']}\n",
      "\n",
      "Name: Broadstone Vin\n",
      "Rating: 4.4 (33 reviews)\n",
      "Related places: {'bouldering_gym': ['Bouldering Project - Fremont']}\n",
      "\n",
      "Name: St. James Tower\n",
      "Rating: 4.7 (46 reviews)\n",
      "Related places: {'bouldering_gym': ['Bouldering Project - Fremont']}\n",
      "\n",
      "Name: The Noble Apartments\n",
      "Rating: 4.7 (16 reviews)\n",
      "Related places: {'bouldering_gym': ['Bouldering Project - Fremont']}\n",
      "\n",
      "Name: Augusta Apartments\n",
      "Rating: 4.3 (190 reviews)\n",
      "Related places: {'bouldering_gym': ['Bouldering Project - Fremont']}\n",
      "\n",
      "Name: Smith & Burns Apartments\n",
      "Rating: 4.2 (34 reviews)\n",
      "Related places: {'bouldering_gym': ['Bouldering Project - Fremont']}\n",
      "\n",
      "Name: Leeward Apartments\n",
      "Rating: 4.5 (219 reviews)\n",
      "Related places: {'bouldering_gym': ['Bouldering Project - Fremont']}\n",
      "\n",
      "Name: Vibe Fremont\n",
      "Rating: 4.3 (31 reviews)\n",
      "Related places: {'bouldering_gym': ['Bouldering Project - Fremont']}\n",
      "\n",
      "Name: CHROMA\n",
      "Rating: 4.3 (213 reviews)\n",
      "Related places: {'bouldering_gym': ['Bouldering Project - Fremont']}\n",
      "\n"
     ]
    }
   ],
   "source": [
    "for apt in apartments:\n",
    "    apt.print_info()"
   ]
  },
  {
   "cell_type": "code",
   "execution_count": null,
   "id": "b545ae73",
   "metadata": {},
   "outputs": [],
   "source": []
  }
 ],
 "metadata": {
  "kernelspec": {
   "display_name": ".venv",
   "language": "python",
   "name": "python3"
  },
  "language_info": {
   "codemirror_mode": {
    "name": "ipython",
    "version": 3
   },
   "file_extension": ".py",
   "mimetype": "text/x-python",
   "name": "python",
   "nbconvert_exporter": "python",
   "pygments_lexer": "ipython3",
   "version": "3.13.3"
  }
 },
 "nbformat": 4,
 "nbformat_minor": 5
}
