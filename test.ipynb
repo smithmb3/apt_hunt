{
 "cells": [
  {
   "cell_type": "markdown",
   "id": "4bf2e904",
   "metadata": {},
   "source": [
    "# Apartment Search\n",
    "\n",
    "Specific constraints are based on my personal lifestyle as a metro/walking commuter who likes to boulder - a set of constraints hard to represent easily in the usual online tools.\n",
    "\n",
    "Approach 1:\n",
    " - Find a set of apartments within a set radius of the building I would like to work in\n",
    " - Downsize this list by rating \n",
    " - Sort by commute time to a climbing gym\n",
    "\n",
    "Approach 2:\n",
    "- Find climbing gyms (3-5) closest to the building I would like to work in\n",
    "- Use some data source to find the metro locations between those points\n",
    "- Remove any metro stops which would cause the transit between the apartment and gym or apartment and work to be too long\n",
    "- Perform a places search for well-rated apartments near any remaining metro stops\n",
    "\n"
   ]
  },
  {
   "cell_type": "code",
   "execution_count": 1,
   "id": "b7ba8c85",
   "metadata": {},
   "outputs": [
    {
     "ename": "ApiError",
     "evalue": "REQUEST_DENIED (This API project is not authorized to use this API.)",
     "output_type": "error",
     "traceback": [
      "\u001b[0;31m---------------------------------------------------------------------------\u001b[0m",
      "\u001b[0;31mApiError\u001b[0m                                  Traceback (most recent call last)",
      "Cell \u001b[0;32mIn[1], line 13\u001b[0m\n\u001b[1;32m     10\u001b[0m \u001b[38;5;28;01mfrom\u001b[39;00m\u001b[38;5;250m \u001b[39m\u001b[38;5;21;01mdatetime\u001b[39;00m\u001b[38;5;250m \u001b[39m\u001b[38;5;28;01mimport\u001b[39;00m datetime\n\u001b[1;32m     11\u001b[0m departure_time \u001b[38;5;241m=\u001b[39m datetime(\u001b[38;5;241m2025\u001b[39m,\u001b[38;5;241m9\u001b[39m,\u001b[38;5;241m3\u001b[39m,\u001b[38;5;241m10\u001b[39m,\u001b[38;5;241m1\u001b[39m,\u001b[38;5;241m1\u001b[39m)\n\u001b[0;32m---> 13\u001b[0m apartments \u001b[38;5;241m=\u001b[39m find_apartments(work_location \u001b[38;5;241m=\u001b[39m work_location, \n\u001b[1;32m     14\u001b[0m                             personal_location \u001b[38;5;241m=\u001b[39m personal_location, \n\u001b[1;32m     15\u001b[0m                             max_work_commute \u001b[38;5;241m=\u001b[39m maximum_work_commute, \n\u001b[1;32m     16\u001b[0m                             max_personal_commute \u001b[38;5;241m=\u001b[39m max_personal_commute, \n\u001b[1;32m     17\u001b[0m                             departure_time \u001b[38;5;241m=\u001b[39m departure_time, \n\u001b[1;32m     18\u001b[0m                             min_rating \u001b[38;5;241m=\u001b[39m minimum_rating,\n\u001b[1;32m     19\u001b[0m                             max_personal_locs \u001b[38;5;241m=\u001b[39m \u001b[38;5;241m5\u001b[39m)\n\u001b[1;32m     21\u001b[0m \u001b[38;5;28mprint\u001b[39m(\u001b[38;5;124mf\u001b[39m\u001b[38;5;124m'\u001b[39m\u001b[38;5;132;01m{\u001b[39;00m\u001b[38;5;28mlen\u001b[39m(apartments)\u001b[38;5;132;01m}\u001b[39;00m\u001b[38;5;124m options found\u001b[39m\u001b[38;5;124m'\u001b[39m)\n",
      "File \u001b[0;32m~/Git/apt_hunt/google_maps_search.py:177\u001b[0m, in \u001b[0;36mfind_apartments\u001b[0;34m(work_location, personal_location, max_work_commute, max_personal_commute, departure_time, max_personal_locs, transit_style, min_rating)\u001b[0m\n\u001b[1;32m    174\u001b[0m apartments \u001b[38;5;241m=\u001b[39m []\n\u001b[1;32m    176\u001b[0m \u001b[38;5;28;01mif\u001b[39;00m \u001b[38;5;28misinstance\u001b[39m(work_location, \u001b[38;5;28mstr\u001b[39m):\n\u001b[0;32m--> 177\u001b[0m      work_location \u001b[38;5;241m=\u001b[39m gmaps\u001b[38;5;241m.\u001b[39mgeocode(work_location)[\u001b[38;5;241m0\u001b[39m][\u001b[38;5;124m'\u001b[39m\u001b[38;5;124mgeometry\u001b[39m\u001b[38;5;124m'\u001b[39m][\u001b[38;5;124m'\u001b[39m\u001b[38;5;124mlocation\u001b[39m\u001b[38;5;124m'\u001b[39m]\n\u001b[1;32m    179\u001b[0m \u001b[38;5;66;03m# Find the closest personal locations to the workplace, limiting things to the top 3 to stop it all getting out of hand\u001b[39;00m\n\u001b[1;32m    180\u001b[0m personal_locations \u001b[38;5;241m=\u001b[39m find_places(gmaps_client \u001b[38;5;241m=\u001b[39m gmaps, base_location \u001b[38;5;241m=\u001b[39m work_location, query \u001b[38;5;241m=\u001b[39m personal_location, min_rating \u001b[38;5;241m=\u001b[39m min_rating, max_places \u001b[38;5;241m=\u001b[39m max_personal_locs)\n",
      "File \u001b[0;32m~/anaconda3/lib/python3.13/site-packages/googlemaps/client.py:445\u001b[0m, in \u001b[0;36mmake_api_method.<locals>.wrapper\u001b[0;34m(*args, **kwargs)\u001b[0m\n\u001b[1;32m    442\u001b[0m \u001b[38;5;129m@functools\u001b[39m\u001b[38;5;241m.\u001b[39mwraps(func)\n\u001b[1;32m    443\u001b[0m \u001b[38;5;28;01mdef\u001b[39;00m\u001b[38;5;250m \u001b[39m\u001b[38;5;21mwrapper\u001b[39m(\u001b[38;5;241m*\u001b[39margs, \u001b[38;5;241m*\u001b[39m\u001b[38;5;241m*\u001b[39mkwargs):\n\u001b[1;32m    444\u001b[0m     args[\u001b[38;5;241m0\u001b[39m]\u001b[38;5;241m.\u001b[39m_extra_params \u001b[38;5;241m=\u001b[39m kwargs\u001b[38;5;241m.\u001b[39mpop(\u001b[38;5;124m\"\u001b[39m\u001b[38;5;124mextra_params\u001b[39m\u001b[38;5;124m\"\u001b[39m, \u001b[38;5;28;01mNone\u001b[39;00m)\n\u001b[0;32m--> 445\u001b[0m     result \u001b[38;5;241m=\u001b[39m func(\u001b[38;5;241m*\u001b[39margs, \u001b[38;5;241m*\u001b[39m\u001b[38;5;241m*\u001b[39mkwargs)\n\u001b[1;32m    446\u001b[0m     \u001b[38;5;28;01mtry\u001b[39;00m:\n\u001b[1;32m    447\u001b[0m         \u001b[38;5;28;01mdel\u001b[39;00m args[\u001b[38;5;241m0\u001b[39m]\u001b[38;5;241m.\u001b[39m_extra_params\n",
      "File \u001b[0;32m~/anaconda3/lib/python3.13/site-packages/googlemaps/geocoding.py:75\u001b[0m, in \u001b[0;36mgeocode\u001b[0;34m(client, address, place_id, components, bounds, region, language)\u001b[0m\n\u001b[1;32m     72\u001b[0m \u001b[38;5;28;01mif\u001b[39;00m language:\n\u001b[1;32m     73\u001b[0m     params[\u001b[38;5;124m\"\u001b[39m\u001b[38;5;124mlanguage\u001b[39m\u001b[38;5;124m\"\u001b[39m] \u001b[38;5;241m=\u001b[39m language\n\u001b[0;32m---> 75\u001b[0m \u001b[38;5;28;01mreturn\u001b[39;00m client\u001b[38;5;241m.\u001b[39m_request(\u001b[38;5;124m\"\u001b[39m\u001b[38;5;124m/maps/api/geocode/json\u001b[39m\u001b[38;5;124m\"\u001b[39m, params)\u001b[38;5;241m.\u001b[39mget(\u001b[38;5;124m\"\u001b[39m\u001b[38;5;124mresults\u001b[39m\u001b[38;5;124m\"\u001b[39m, [])\n",
      "File \u001b[0;32m~/anaconda3/lib/python3.13/site-packages/googlemaps/client.py:340\u001b[0m, in \u001b[0;36mClient._request\u001b[0;34m(self, url, params, first_request_time, retry_counter, base_url, accepts_clientid, extract_body, requests_kwargs, post_json)\u001b[0m\n\u001b[1;32m    338\u001b[0m     result \u001b[38;5;241m=\u001b[39m extract_body(response)\n\u001b[1;32m    339\u001b[0m \u001b[38;5;28;01melse\u001b[39;00m:\n\u001b[0;32m--> 340\u001b[0m     result \u001b[38;5;241m=\u001b[39m \u001b[38;5;28mself\u001b[39m\u001b[38;5;241m.\u001b[39m_get_body(response)\n\u001b[1;32m    341\u001b[0m \u001b[38;5;28mself\u001b[39m\u001b[38;5;241m.\u001b[39msent_times\u001b[38;5;241m.\u001b[39mappend(time\u001b[38;5;241m.\u001b[39mtime())\n\u001b[1;32m    342\u001b[0m \u001b[38;5;28;01mreturn\u001b[39;00m result\n",
      "File \u001b[0;32m~/anaconda3/lib/python3.13/site-packages/googlemaps/client.py:369\u001b[0m, in \u001b[0;36mClient._get_body\u001b[0;34m(self, response)\u001b[0m\n\u001b[1;32m    365\u001b[0m \u001b[38;5;28;01mif\u001b[39;00m api_status \u001b[38;5;241m==\u001b[39m \u001b[38;5;124m\"\u001b[39m\u001b[38;5;124mOVER_QUERY_LIMIT\u001b[39m\u001b[38;5;124m\"\u001b[39m:\n\u001b[1;32m    366\u001b[0m     \u001b[38;5;28;01mraise\u001b[39;00m googlemaps\u001b[38;5;241m.\u001b[39mexceptions\u001b[38;5;241m.\u001b[39m_OverQueryLimit(\n\u001b[1;32m    367\u001b[0m         api_status, body\u001b[38;5;241m.\u001b[39mget(\u001b[38;5;124m\"\u001b[39m\u001b[38;5;124merror_message\u001b[39m\u001b[38;5;124m\"\u001b[39m))\n\u001b[0;32m--> 369\u001b[0m \u001b[38;5;28;01mraise\u001b[39;00m googlemaps\u001b[38;5;241m.\u001b[39mexceptions\u001b[38;5;241m.\u001b[39mApiError(api_status,\n\u001b[1;32m    370\u001b[0m                                      body\u001b[38;5;241m.\u001b[39mget(\u001b[38;5;124m\"\u001b[39m\u001b[38;5;124merror_message\u001b[39m\u001b[38;5;124m\"\u001b[39m))\n",
      "\u001b[0;31mApiError\u001b[0m: REQUEST_DENIED (This API project is not authorized to use this API.)"
     ]
    }
   ],
   "source": [
    "from google_maps_search import find_apartments\n",
    "\n",
    "minimum_rating = 4.0\n",
    "maximum_work_commute = 30\n",
    "max_personal_commute = 15\n",
    "\n",
    "work_location = 'Amazon - Blackfoot, Seattle'\n",
    "personal_location = 'bouldering gym'\n",
    "\n",
    "from datetime import datetime\n",
    "departure_time = datetime(2025,9,3,10,1,1)\n",
    "\n",
    "apartments = find_apartments(work_location = work_location, \n",
    "                            personal_location = personal_location, \n",
    "                            max_work_commute = maximum_work_commute, \n",
    "                            max_personal_commute = max_personal_commute, \n",
    "                            departure_time = departure_time, \n",
    "                            min_rating = minimum_rating,\n",
    "                            max_personal_locs = 5)\n",
    "\n",
    "print(f'{len(apartments)} options found')"
   ]
  },
  {
   "cell_type": "code",
   "execution_count": null,
   "id": "83425d53",
   "metadata": {},
   "outputs": [
    {
     "name": "stdout",
     "output_type": "stream",
     "text": [
      "Name: The Cline Apartments\n",
      "Rating: 4.9 (49 reviews)\n",
      "Related places: {'bouldering_gym': ['Bouldering Project - Fremont']}\n",
      "\n",
      "Name: Bowman\n",
      "Rating: 4.4 (76 reviews)\n",
      "Related places: {'bouldering_gym': ['Bouldering Project - Fremont']}\n",
      "\n",
      "Name: AMLI Wallingford\n",
      "Rating: 4.4 (100 reviews)\n",
      "Related places: {'bouldering_gym': ['Bouldering Project - Fremont']}\n",
      "\n",
      "Name: Broadstone Vin\n",
      "Rating: 4.4 (33 reviews)\n",
      "Related places: {'bouldering_gym': ['Bouldering Project - Fremont']}\n",
      "\n",
      "Name: St. James Tower\n",
      "Rating: 4.7 (46 reviews)\n",
      "Related places: {'bouldering_gym': ['Bouldering Project - Fremont']}\n",
      "\n",
      "Name: The Noble Apartments\n",
      "Rating: 4.7 (16 reviews)\n",
      "Related places: {'bouldering_gym': ['Bouldering Project - Fremont']}\n",
      "\n",
      "Name: Augusta Apartments\n",
      "Rating: 4.3 (190 reviews)\n",
      "Related places: {'bouldering_gym': ['Bouldering Project - Fremont']}\n",
      "\n",
      "Name: Smith & Burns Apartments\n",
      "Rating: 4.2 (34 reviews)\n",
      "Related places: {'bouldering_gym': ['Bouldering Project - Fremont']}\n",
      "\n",
      "Name: Leeward Apartments\n",
      "Rating: 4.5 (219 reviews)\n",
      "Related places: {'bouldering_gym': ['Bouldering Project - Fremont']}\n",
      "\n",
      "Name: Vibe Fremont\n",
      "Rating: 4.3 (31 reviews)\n",
      "Related places: {'bouldering_gym': ['Bouldering Project - Fremont']}\n",
      "\n",
      "Name: CHROMA\n",
      "Rating: 4.3 (213 reviews)\n",
      "Related places: {'bouldering_gym': ['Bouldering Project - Fremont']}\n",
      "\n"
     ]
    }
   ],
   "source": [
    "for apt in apartments:\n",
    "    apt.print_info()"
   ]
  },
  {
   "cell_type": "code",
   "execution_count": null,
   "id": "b545ae73",
   "metadata": {},
   "outputs": [],
   "source": []
  }
 ],
 "metadata": {
  "kernelspec": {
   "display_name": "base",
   "language": "python",
   "name": "python3"
  },
  "language_info": {
   "codemirror_mode": {
    "name": "ipython",
    "version": 3
   },
   "file_extension": ".py",
   "mimetype": "text/x-python",
   "name": "python",
   "nbconvert_exporter": "python",
   "pygments_lexer": "ipython3",
   "version": "3.13.5"
  }
 },
 "nbformat": 4,
 "nbformat_minor": 5
}
